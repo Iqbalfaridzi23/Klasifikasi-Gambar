{
 "cells": [
  {
   "cell_type": "code",
   "execution_count": 17,
   "id": "0503f1b5-9463-4672-911e-97c797d129bf",
   "metadata": {},
   "outputs": [],
   "source": [
    "import os\n",
    "import zipfile\n",
    "import random\n",
    "import shutil\n",
    "import matplotlib.pyplot as plt\n",
    "import tensorflow as tf\n",
    "import subprocess\n",
    "from tensorflow.keras.models import Sequential\n",
    "from tensorflow.keras.layers import Conv2D, MaxPooling2D, Flatten, Dense, Dropout, Input\n",
    "from tensorflow.keras.preprocessing.image import ImageDataGenerator\n",
    "from keras.callbacks import EarlyStopping"
   ]
  },
  {
   "cell_type": "code",
   "execution_count": 18,
   "id": "0f70d076-378c-45e2-9d35-151894ac5475",
   "metadata": {},
   "outputs": [
    {
     "name": "stdout",
     "output_type": "stream",
     "text": [
      "Ekstrak selesai!\n"
     ]
    }
   ],
   "source": [
    "os.makedirs(\"dataset\", exist_ok=True)\n",
    "\n",
    "# Ekstrak isi zip ke folder \"dataset\"\n",
    "with zipfile.ZipFile(\"archive.zip\", 'r') as zip_ref:\n",
    "    zip_ref.extractall(\"dataset\")\n",
    "\n",
    "print(\"Ekstrak selesai!\")"
   ]
  },
  {
   "cell_type": "code",
   "execution_count": 19,
   "id": "6bf5c09f-1121-4ca8-90d4-0c7990f1b699",
   "metadata": {},
   "outputs": [
    {
     "name": "stdout",
     "output_type": "stream",
     "text": [
      "dataset/\n",
      "  data/\n",
      "    non-vehicles/\n",
      "      extra1.png\n",
      "      extra10.png\n",
      "      extra100.png\n",
      "      extra1000.png\n",
      "      extra1001.png\n",
      "    vehicles/\n",
      "      1.png\n",
      "      10.png\n",
      "      1000.png\n",
      "      1001.png\n",
      "      1002.png\n"
     ]
    }
   ],
   "source": [
    "for root, dirs, files in os.walk(\"dataset\"):\n",
    "    level = root.replace(\"dataset\", \"\").count(os.sep)\n",
    "    indent = \"  \" * level\n",
    "    print(f\"{indent}{os.path.basename(root)}/\")\n",
    "    subindent = \"  \" * (level + 1)\n",
    "    for f in files[:5]:  # tampilkan maksimal 5 file pertama per folder\n",
    "        print(f\"{subindent}{f}\")"
   ]
  },
  {
   "cell_type": "code",
   "execution_count": 20,
   "id": "6bdae730-79b0-4ba7-94fc-850e1fa3e17f",
   "metadata": {},
   "outputs": [],
   "source": [
    "base_dir = \"split_dataset\"\n",
    "classes = ['vehicles', 'non-vehicles']\n",
    "splits = ['train', 'val', 'test']\n",
    "split_ratio = {'train': 0.7, 'val': 0.15, 'test': 0.15}"
   ]
  },
  {
   "cell_type": "code",
   "execution_count": 21,
   "id": "6d94fb07-81e7-4690-8b34-b519033d1064",
   "metadata": {},
   "outputs": [],
   "source": [
    "for split in splits:\n",
    "    for cls in classes:\n",
    "        os.makedirs(os.path.join(base_dir, split, cls), exist_ok=True)\n",
    "def split_and_copy(src_dir, cls):\n",
    "    files = [f for f in os.listdir(src_dir) if f.lower().endswith(('.png', '.jpg', '.jpeg'))]\n",
    "    random.shuffle(files)\n",
    "    total = len(files)\n",
    "    train_end = int(split_ratio['train'] * total)\n",
    "    val_end = train_end + int(split_ratio['val'] * total)\n",
    "\n",
    "    split_files = {\n",
    "        'train': files[:train_end],\n",
    "        'val': files[train_end:val_end],\n",
    "        'test': files[val_end:]\n",
    "    }\n",
    "\n",
    "    for split, split_file_list in split_files.items():\n",
    "        for f in split_file_list:\n",
    "            shutil.copy2(os.path.join(src_dir, f), os.path.join(base_dir, split, cls, f))\n",
    "\n",
    "for cls in classes:\n",
    "    src = os.path.join(\"dataset/data\", cls)\n",
    "    split_and_copy(src, cls)"
   ]
  },
  {
   "cell_type": "code",
   "execution_count": 22,
   "id": "698d239d-a64d-40b3-aa12-7d349ab0a212",
   "metadata": {},
   "outputs": [],
   "source": [
    "img_size = (150, 150)\n",
    "batch_size = 32\n",
    "\n",
    "train_gen = ImageDataGenerator(rescale=1./255)\n",
    "val_gen = ImageDataGenerator(rescale=1./255)\n",
    "test_gen = ImageDataGenerator(rescale=1./255)"
   ]
  },
  {
   "cell_type": "code",
   "execution_count": 23,
   "id": "c855c2a5-498d-4e1e-9803-5030acf38d59",
   "metadata": {},
   "outputs": [
    {
     "name": "stdout",
     "output_type": "stream",
     "text": [
      "Found 17705 images belonging to 2 classes.\n",
      "Found 9889 images belonging to 2 classes.\n",
      "Found 9872 images belonging to 2 classes.\n"
     ]
    }
   ],
   "source": [
    "train_data = train_gen.flow_from_directory(\n",
    "    os.path.join(base_dir, 'train'),\n",
    "    target_size=img_size,\n",
    "    batch_size=batch_size,\n",
    "    class_mode='binary'\n",
    ")\n",
    "\n",
    "val_data = val_gen.flow_from_directory(\n",
    "    os.path.join(base_dir, 'val'),\n",
    "    target_size=img_size,\n",
    "    batch_size=batch_size,\n",
    "    class_mode='binary'\n",
    ")\n",
    "\n",
    "test_data = test_gen.flow_from_directory(\n",
    "    os.path.join(base_dir, 'test'),\n",
    "    target_size=img_size,\n",
    "    batch_size=batch_size,\n",
    "    class_mode='binary',\n",
    "    shuffle=False\n",
    ")"
   ]
  },
  {
   "cell_type": "code",
   "execution_count": 24,
   "id": "87446b8b-26a0-41da-bf18-5b6fd4c31761",
   "metadata": {},
   "outputs": [],
   "source": [
    "model = Sequential([\n",
    "    Input(shape=(150, 150, 3)),  \n",
    "    Conv2D(32, (3, 3), activation='relu'),\n",
    "    MaxPooling2D(2, 2),\n",
    "    Conv2D(64, (3, 3), activation='relu'),\n",
    "    MaxPooling2D(2, 2),\n",
    "    Conv2D(128, (3, 3), activation='relu'),\n",
    "    MaxPooling2D(2, 2),\n",
    "    Flatten(),\n",
    "    Dense(512, activation='relu'),\n",
    "    Dropout(0.6),\n",
    "    Dense(1, activation='sigmoid')\n",
    "])\n",
    "\n",
    "model.compile(optimizer='adam', loss='binary_crossentropy', metrics=['accuracy'])"
   ]
  },
  {
   "cell_type": "code",
   "execution_count": 25,
   "id": "61101328-7cc3-49ec-a770-26f5a9008811",
   "metadata": {},
   "outputs": [],
   "source": [
    "early_stop = EarlyStopping(monitor='val_loss', patience=3, restore_best_weights=True)"
   ]
  },
  {
   "cell_type": "code",
   "execution_count": 26,
   "id": "f2b1aacf-a1f6-4724-9b5f-2c0a2d7b38d1",
   "metadata": {},
   "outputs": [
    {
     "name": "stdout",
     "output_type": "stream",
     "text": [
      "Epoch 1/5\n",
      "554/554 [==============================] - 337s 606ms/step - loss: 0.1241 - accuracy: 0.9528 - val_loss: 0.0601 - val_accuracy: 0.9810\n",
      "Epoch 2/5\n",
      "554/554 [==============================] - 211s 380ms/step - loss: 0.0537 - accuracy: 0.9822 - val_loss: 0.0725 - val_accuracy: 0.9747\n",
      "Epoch 3/5\n",
      "554/554 [==============================] - 217s 391ms/step - loss: 0.0553 - accuracy: 0.9810 - val_loss: 0.0141 - val_accuracy: 0.9958\n",
      "Epoch 4/5\n",
      "554/554 [==============================] - 215s 388ms/step - loss: 0.0237 - accuracy: 0.9914 - val_loss: 0.0130 - val_accuracy: 0.9950\n",
      "Epoch 5/5\n",
      "554/554 [==============================] - 210s 380ms/step - loss: 0.0384 - accuracy: 0.9881 - val_loss: 0.0127 - val_accuracy: 0.9958\n"
     ]
    }
   ],
   "source": [
    "history = model.fit(\n",
    "    train_data,\n",
    "    epochs=5,\n",
    "    validation_data=val_data\n",
    ")"
   ]
  },
  {
   "cell_type": "code",
   "execution_count": 27,
   "id": "c5d5bea5-f572-4e5f-aae4-bbfe8f2a48db",
   "metadata": {},
   "outputs": [
    {
     "name": "stdout",
     "output_type": "stream",
     "text": [
      "310/310 [==============================] - 20s 65ms/step - loss: 0.0127 - accuracy: 0.9958\n",
      "Loss Validasi: 0.012682925909757614\n",
      "Akurasi Validasi: 0.9957528710365295\n"
     ]
    }
   ],
   "source": [
    "loss, accuracy = model.evaluate(val_data)\n",
    "print(f\"Loss Validasi: {loss}\")\n",
    "print(f\"Akurasi Validasi: {accuracy}\")\n"
   ]
  },
  {
   "cell_type": "code",
   "execution_count": 28,
   "id": "b31007de-ce9c-4c07-8ea7-6c58d173136d",
   "metadata": {},
   "outputs": [
    {
     "data": {
      "image/png": "[encoded data removed]",
      "text/plain": [
       "<Figure size 1200x500 with 2 Axes>"
      ]
     },
     "metadata": {},
     "output_type": "display_data"
    }
   ],
   "source": [
    "plt.figure(figsize=(12, 5))\n",
    "\n",
    "plt.subplot(1, 2, 1)\n",
    "plt.plot(history.history['accuracy'], label=\"Train Accuracy\")\n",
    "plt.plot(history.history['val_accuracy'], label=\"Val Accuracy\")\n",
    "plt.title(\"Model Accuracy\")\n",
    "plt.xlabel(\"Epoch\")\n",
    "plt.ylabel(\"Accuracy\")\n",
    "plt.legend()\n",
    "\n",
    "plt.subplot(1, 2, 2)\n",
    "plt.plot(history.history['loss'], label=\"Train Loss\")\n",
    "plt.plot(history.history['val_loss'], label=\"Val Loss\")\n",
    "plt.title(\"Model Loss\")\n",
    "plt.xlabel(\"Epoch\")\n",
    "plt.ylabel(\"Loss\")\n",
    "plt.legend()\n",
    "\n",
    "plt.show()"
   ]
  },
  {
   "cell_type": "code",
   "execution_count": 29,
   "id": "8069faca-f481-4519-bd92-a8854569e5fe",
   "metadata": {},
   "outputs": [],
   "source": [
    "os.makedirs(\"saved_model\", exist_ok=True)\n",
    "model.save(\"saved_model/vehicle_classifier.keras\")"
   ]
  },
  {
   "cell_type": "code",
   "execution_count": 30,
   "id": "c4eddd9b-dff7-4af1-9f40-7b595d0cdb4a",
   "metadata": {},
   "outputs": [
    {
     "name": "stdout",
     "output_type": "stream",
     "text": [
      "INFO:tensorflow:Assets written to: C:\\Users\\IQBAL\\AppData\\Local\\Temp\\tmpw5u__l3d\\assets\n"
     ]
    },
    {
     "name": "stderr",
     "output_type": "stream",
     "text": [
      "INFO:tensorflow:Assets written to: C:\\Users\\IQBAL\\AppData\\Local\\Temp\\tmpw5u__l3d\\assets\n"
     ]
    }
   ],
   "source": [
    "converter = tf.lite.TFLiteConverter.from_keras_model(model)\n",
    "tflite_model = converter.convert()\n",
    "\n",
    "with open(\"vehicle_classifier.tflite\", \"wb\") as f:\n",
    "    f.write(tflite_model)"
   ]
  },
  {
   "cell_type": "code",
   "execution_count": 31,
   "id": "3e8f4696-c58e-43e5-8d77-16d972652938",
   "metadata": {},
   "outputs": [
    {
     "data": {
      "text/plain": [
       "CompletedProcess(args=['tensorflowjs_converter', '--input_format=keras', 'saved_model/vehicle_classifier.keras', 'tfjs_model/'], returncode=1)"
      ]
     },
     "execution_count": 31,
     "metadata": {},
     "output_type": "execute_result"
    }
   ],
   "source": [
    "subprocess.run([\n",
    "    \"tensorflowjs_converter\",\n",
    "    \"--input_format=keras\",\n",
    "    \"saved_model/vehicle_classifier.keras\",\n",
    "    \"tfjs_model/\"\n",
    "])\n"
   ]
  },
  {
   "cell_type": "code",
   "execution_count": null,
   "id": "f1d916e3-6e9b-43f2-82f5-682e100bd54e",
   "metadata": {},
   "outputs": [],
   "source": []
  }
 ],
 "metadata": {
  "kernelspec": {
   "display_name": "Python 3 (ipykernel)",
   "language": "python",
   "name": "python3"
  },
  "language_info": {
   "codemirror_mode": {
    "name": "ipython",
    "version": 3
   },
   "file_extension": ".py",
   "mimetype": "text/x-python",
   "name": "python",
   "nbconvert_exporter": "python",
   "pygments_lexer": "ipython3",
   "version": "3.9.13"
  }
 },
 "nbformat": 4,
 "nbformat_minor": 5
}
